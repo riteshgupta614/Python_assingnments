{
  "nbformat": 4,
  "nbformat_minor": 0,
  "metadata": {
    "colab": {
      "provenance": []
    },
    "kernelspec": {
      "name": "python3",
      "display_name": "Python 3"
    },
    "language_info": {
      "name": "python"
    }
  },
  "cells": [
    {
      "cell_type": "markdown",
      "source": [
        "# 1.What are the two values of the Boolean data type? How do you write them?"
      ],
      "metadata": {
        "id": "QiRtYsJxsXEP"
      }
    },
    {
      "cell_type": "code",
      "execution_count": 41,
      "metadata": {
        "colab": {
          "base_uri": "https://localhost:8080/",
          "height": 72
        },
        "id": "esVC3Q5SrhPk",
        "outputId": "514cfeeb-63ae-43a1-cab2-90ef543a5765"
      },
      "outputs": [
        {
          "output_type": "execute_result",
          "data": {
            "text/plain": [
              "'\\nANSWER\\n\\nThe Boolean data type in Python represents two values: True and False.\\nThese values are used to represent the truthiness or falseness of a condition or expression.\\n\\nTo write them in Python:\\n\\nTrue: This represents a true or affirmative value.\\nFalse: This represents a false or negative value.\\n'"
            ],
            "application/vnd.google.colaboratory.intrinsic+json": {
              "type": "string"
            }
          },
          "metadata": {},
          "execution_count": 41
        }
      ],
      "source": [
        "'''\n",
        "ANSWER\n",
        "\n",
        "The Boolean data type in Python represents two values: True and False.\n",
        "These values are used to represent the truthiness or falseness of a condition or expression.\n",
        "\n",
        "To write them in Python:\n",
        "\n",
        "True: This represents a true or affirmative value.\n",
        "False: This represents a false or negative value.\n",
        "'''"
      ]
    },
    {
      "cell_type": "code",
      "source": [
        "x = True\n",
        "y = False\n",
        "\n",
        "if x:\n",
        "    print(\"x is True\")\n",
        "\n",
        "if not y:\n",
        "    print(\"y is False\")\n"
      ],
      "metadata": {
        "colab": {
          "base_uri": "https://localhost:8080/"
        },
        "id": "MwB8wPvJsp1c",
        "outputId": "1dab94f8-771c-400d-9a68-b0aede43808f"
      },
      "execution_count": 42,
      "outputs": [
        {
          "output_type": "stream",
          "name": "stdout",
          "text": [
            "x is True\n",
            "y is False\n"
          ]
        }
      ]
    },
    {
      "cell_type": "markdown",
      "source": [
        "#2. What are the three different types of Boolean operators?"
      ],
      "metadata": {
        "id": "hdB9wbsbsbIM"
      }
    },
    {
      "cell_type": "markdown",
      "source": [
        "'''\n",
        "In Python, there are three primary Boolean operators that are used to manipulate and compare Boolean values. These operators are:\n",
        "\n",
        "\n",
        "1. AND Operator: The and operator returns True if both operands (the values on its left and right) are True. Otherwise, it returns False.\n",
        "\n",
        "\n",
        "2. OR Operator: The or operator returns True if at least one of its operands is True. It returns False only if both operands are False.\n",
        "\n",
        "\n",
        "3. NOT Operator: The not operator is a unary operator that returns the opposite Boolean value of its operand.If the operand is True, not will return False, and if the operand is False, not will return True.\n",
        "'''"
      ],
      "metadata": {
        "id": "Hz6N6eQ8t0r6"
      }
    },
    {
      "cell_type": "markdown",
      "source": [
        "#3. Make a list of each Boolean operator's truth tables (i.e. every possible combination of Boolean values for the operator and what it evaluate )."
      ],
      "metadata": {
        "id": "xjhHsFHQuEMJ"
      }
    },
    {
      "cell_type": "code",
      "source": [
        "# import module\n",
        "from tabulate import tabulate\n",
        "\n",
        "# assign data\n",
        "mydata = [\n",
        "    [\"Operand 1\", \"Operand 2\t\",\"Result\"],\n",
        "      [\"False\",\"False\",\"False\"],\n",
        "[\"False\t\",\" True\",\"\tTrue\"],\n",
        "[\"True\",\"\tFalse\",\"\tTrue\"],\n",
        "[\"True\t\",\"True\t\",\"True\"]\n",
        "]\n",
        "\n",
        "# display table\n",
        "print('OR_Operator')\n",
        "print(tabulate(mydata))\n",
        "\n",
        "#-----------------------------------------\n",
        "\n",
        "\n",
        "# assign data\n",
        "AND_Operator = [\n",
        "    [\"Operand 1\", \"Operand 2\t\",\"Result\"],\n",
        "      [\"False\",\"False\",\"False\"],\n",
        "[\"False\t\",\" True\",\"\tFalse\"],\n",
        "[\"True\",\"\tFalse\",\"\tFalse\"],\n",
        "[\"True\t\",\"True\t\",\"True\"]\n",
        "]\n",
        "\n",
        "# display table\n",
        "print('AND_Operator')\n",
        "print(tabulate(AND_Operator))\n",
        "\n",
        "#-----------------------------------------\n",
        "\n",
        "\n",
        "from tabulate import tabulate\n",
        "NOT_Operator = [\n",
        "[\"Operand\",\"Result\"],\n",
        "[\"False\t\",\" True\"],\n",
        "[\"True\",\"\tFalse\"],\n",
        "\n",
        "]\n",
        "print('NOT_Operator')\n",
        "print(tabulate(NOT_Operator))\n"
      ],
      "metadata": {
        "colab": {
          "base_uri": "https://localhost:8080/"
        },
        "id": "tjgcRMppzqH6",
        "outputId": "69f2eaa9-f61d-4787-a019-da60e7bd1d06"
      },
      "execution_count": 43,
      "outputs": [
        {
          "output_type": "stream",
          "name": "stdout",
          "text": [
            "OR_Operator\n",
            "---------  ---------  ------\n",
            "Operand 1  Operand 2  Result\n",
            "False      False      False\n",
            "False      True       True\n",
            "True       False      True\n",
            "True       True       True\n",
            "---------  ---------  ------\n",
            "AND_Operator\n",
            "---------  ---------  ------\n",
            "Operand 1  Operand 2  Result\n",
            "False      False      False\n",
            "False      True       False\n",
            "True       False      False\n",
            "True       True       True\n",
            "---------  ---------  ------\n",
            "NOT_Operator\n",
            "-------  ------\n",
            "Operand  Result\n",
            "False    True\n",
            "True     False\n",
            "-------  ------\n"
          ]
        }
      ]
    },
    {
      "cell_type": "markdown",
      "source": [
        "\n",
        "\n",
        "\n",
        "#4. What are the values of the following expressions?\n",
        "\n",
        "\n"
      ],
      "metadata": {
        "id": "vXxI_0-BivkG"
      }
    },
    {
      "cell_type": "code",
      "source": [],
      "metadata": {
        "id": "0_b3-IztztxW"
      },
      "execution_count": 43,
      "outputs": []
    },
    {
      "cell_type": "code",
      "source": [
        "(5 > 4) and (3 == 5)"
      ],
      "metadata": {
        "colab": {
          "base_uri": "https://localhost:8080/"
        },
        "id": "f0IFk7zrGQjd",
        "outputId": "41475ee9-00c9-42ef-db16-f7565526750e"
      },
      "execution_count": 44,
      "outputs": [
        {
          "output_type": "execute_result",
          "data": {
            "text/plain": [
              "False"
            ]
          },
          "metadata": {},
          "execution_count": 44
        }
      ]
    },
    {
      "cell_type": "code",
      "source": [
        "not (5 > 4)"
      ],
      "metadata": {
        "colab": {
          "base_uri": "https://localhost:8080/"
        },
        "id": "voy1NGn6GRkx",
        "outputId": "39a579ed-80b5-4b3b-dfc0-f1f4d808b3eb"
      },
      "execution_count": 45,
      "outputs": [
        {
          "output_type": "execute_result",
          "data": {
            "text/plain": [
              "False"
            ]
          },
          "metadata": {},
          "execution_count": 45
        }
      ]
    },
    {
      "cell_type": "code",
      "source": [
        "(5 > 4) or (3 == 5)"
      ],
      "metadata": {
        "colab": {
          "base_uri": "https://localhost:8080/"
        },
        "id": "deMrGmQuGSxx",
        "outputId": "6217155a-984d-4184-83a9-db6e698f95ca"
      },
      "execution_count": 46,
      "outputs": [
        {
          "output_type": "execute_result",
          "data": {
            "text/plain": [
              "True"
            ]
          },
          "metadata": {},
          "execution_count": 46
        }
      ]
    },
    {
      "cell_type": "code",
      "source": [
        "not ((5 > 4) or (3 == 5))"
      ],
      "metadata": {
        "colab": {
          "base_uri": "https://localhost:8080/"
        },
        "id": "-Qyn7cP2GUXd",
        "outputId": "d903e4d5-7e21-419e-bb08-421d6e5001f8"
      },
      "execution_count": 47,
      "outputs": [
        {
          "output_type": "execute_result",
          "data": {
            "text/plain": [
              "False"
            ]
          },
          "metadata": {},
          "execution_count": 47
        }
      ]
    },
    {
      "cell_type": "code",
      "source": [
        "(True and True) and (True == False)"
      ],
      "metadata": {
        "colab": {
          "base_uri": "https://localhost:8080/"
        },
        "id": "TQaVvmhmGVeD",
        "outputId": "eef688d2-542f-4e67-a287-253b52843e82"
      },
      "execution_count": 48,
      "outputs": [
        {
          "output_type": "execute_result",
          "data": {
            "text/plain": [
              "False"
            ]
          },
          "metadata": {},
          "execution_count": 48
        }
      ]
    },
    {
      "cell_type": "code",
      "source": [
        "(not False) or (not True)"
      ],
      "metadata": {
        "colab": {
          "base_uri": "https://localhost:8080/"
        },
        "id": "cWTqiY34GWmg",
        "outputId": "bfe9e3e4-0105-4a83-d9b1-c9e801dae73b"
      },
      "execution_count": 49,
      "outputs": [
        {
          "output_type": "execute_result",
          "data": {
            "text/plain": [
              "True"
            ]
          },
          "metadata": {},
          "execution_count": 49
        }
      ]
    },
    {
      "cell_type": "markdown",
      "source": [
        "#5. What are the six comparison operators?"
      ],
      "metadata": {
        "id": "O-GZVHM-jw8H"
      }
    },
    {
      "cell_type": "markdown",
      "source": [
        "In Python, there are six comparison operators that allow you to compare values and determine the relationship between them."
      ],
      "metadata": {
        "id": "m0AFaXVPkWXo"
      }
    },
    {
      "cell_type": "markdown",
      "source": [
        "1.== (Equal): Checks if two values are equal to each other.\n",
        "Example: a == b returns True if a is equal to b, otherwise False.\n",
        "\n",
        "2.!= (Not Equal): Checks if two values are not equal to each other.\n",
        "Example: a != b returns True if a is not equal to b, otherwise False.\n",
        "\n",
        "3.< (Less Than): Checks if the left value is less than the right value.\n",
        "Example: a < b returns True if a is less than b, otherwise False.\n",
        "\n",
        "4.> (Greater Than): Checks if the left value is greater than the right value.\n",
        "Example: a > b returns True if a is greater than b, otherwise False.\n",
        "\n",
        "5.<= (Less Than or Equal To): Checks if the left value is less than or equal to the right value.\n",
        "Example: a <= b returns True if a is less than or equal to b, otherwise False.\n",
        "\n",
        "6.>= (Greater Than or Equal To): Checks if the left value is greater than or equal to the right value.\n",
        "Example: a >= b returns True if a is greater than or equal to b, otherwise False."
      ],
      "metadata": {
        "id": "oR4gC1w0kcA3"
      }
    },
    {
      "cell_type": "markdown",
      "source": [
        "#6. How do you tell the difference between the equal to and assignment operators?Describe a condition and when you would use one."
      ],
      "metadata": {
        "id": "OpbT3ApakwMm"
      }
    },
    {
      "cell_type": "markdown",
      "source": [
        "      1. Equal to Operator (==):\n",
        "\n",
        "Purpose: The equal to operator is used for comparison. It checks if the values on both sides of the operator are equal.\n",
        "Example: a == b checks whether the value of a is equal to the value of b.\n",
        "Usage: You would use the equal to operator in conditions or expressions where you want to compare values to determine if they are the same. For example:"
      ],
      "metadata": {
        "id": "rxcr7n4HlONn"
      }
    },
    {
      "cell_type": "code",
      "source": [
        "  '''if user_input == \"password123\":\n",
        "\n",
        "    print(\"Access granted\")'''"
      ],
      "metadata": {
        "colab": {
          "base_uri": "https://localhost:8080/",
          "height": 36
        },
        "id": "pw83QYAimDEG",
        "outputId": "46c80611-598c-4aa4-b5ab-5fb9a2604868"
      },
      "execution_count": 50,
      "outputs": [
        {
          "output_type": "execute_result",
          "data": {
            "text/plain": [
              "'if user_input == \"password123\":\\n\\n  print(\"Access granted\")'"
            ],
            "application/vnd.google.colaboratory.intrinsic+json": {
              "type": "string"
            }
          },
          "metadata": {},
          "execution_count": 50
        }
      ]
    },
    {
      "cell_type": "markdown",
      "source": [
        "    2.Assignment Operator (=):\n",
        "\n",
        "Purpose: The assignment operator is used to assign a value to a variable.\n",
        "It assigns the value on the right side to the variable on the left side."
      ],
      "metadata": {
        "id": "sm24xeK_lq9n"
      }
    },
    {
      "cell_type": "code",
      "source": [
        "'''username = \"john_doe\"\n",
        "\n",
        "    age = 25  '''"
      ],
      "metadata": {
        "colab": {
          "base_uri": "https://localhost:8080/",
          "height": 36
        },
        "id": "TX8B3dVql96-",
        "outputId": "be4f7946-0f06-437a-c2c7-503d2ad94c48"
      },
      "execution_count": 51,
      "outputs": [
        {
          "output_type": "execute_result",
          "data": {
            "text/plain": [
              "'username = \"john_doe\"\\n\\n    age = 25  '"
            ],
            "application/vnd.google.colaboratory.intrinsic+json": {
              "type": "string"
            }
          },
          "metadata": {},
          "execution_count": 51
        }
      ]
    },
    {
      "cell_type": "markdown",
      "source": [
        "#7. Identify the three blocks in this code:"
      ],
      "metadata": {
        "id": "fjjFFXOClxLl"
      }
    },
    {
      "cell_type": "code",
      "source": [
        "spam = 0\n",
        "if spam == 10:\n",
        "    print('eggs')        # indent increased, block A\n",
        "    if spam > 5:         # still block A\n",
        "        print('bacon')   # still block A, indent increased, block B inside block A\n",
        "    else:                # still block A, indent decreased, block B ended in line above\n",
        "        print('ham')     # still block A, indent increased, block C inside block A\n",
        "    print('spam')        # still block A, indent decreased, block C ended in line above\n",
        "print('spam')            # indent decreased, block A ended in line above"
      ],
      "metadata": {
        "colab": {
          "base_uri": "https://localhost:8080/"
        },
        "id": "GNqVxEJokyGt",
        "outputId": "d4a64069-00d4-4bd7-9f6c-5d289a42bacf"
      },
      "execution_count": 52,
      "outputs": [
        {
          "output_type": "stream",
          "name": "stdout",
          "text": [
            "spam\n"
          ]
        }
      ]
    },
    {
      "cell_type": "markdown",
      "source": [
        "#8. Write code that prints Hello if 1 is stored in spam, prints Howdy if 2 is stored in spam, and prints Greetings! if anything else is stored in spam."
      ],
      "metadata": {
        "id": "Q1KD0Lqvom0l"
      }
    },
    {
      "cell_type": "code",
      "source": [
        "spam = int(input(\"Enter a number: \"))  # Assuming user input for the value of spam\n",
        "\n",
        "if spam == 1:\n",
        "    print(\"Hello\")\n",
        "elif spam == 2:\n",
        "    print(\"Howdy\")\n",
        "else:\n",
        "    print(\"Greetings!\")"
      ],
      "metadata": {
        "colab": {
          "base_uri": "https://localhost:8080/"
        },
        "id": "QcypySe8olVs",
        "outputId": "ffac4cee-23b0-4c81-f3ec-c71a4bca662e"
      },
      "execution_count": 53,
      "outputs": [
        {
          "output_type": "stream",
          "name": "stdout",
          "text": [
            "Enter a number: 9\n",
            "Greetings!\n"
          ]
        }
      ]
    },
    {
      "cell_type": "markdown",
      "source": [
        "#9.If your programme is stuck in an endless loop, what keys you’ll press?"
      ],
      "metadata": {
        "id": "MLDXK-TNpCaV"
      }
    },
    {
      "cell_type": "markdown",
      "source": [
        "Ctrl + C (Control key and the C key simultaneously) to send an interrupt signal to the running program."
      ],
      "metadata": {
        "id": "wIOJcsWUpYE_"
      }
    },
    {
      "cell_type": "markdown",
      "source": [
        "#10. How can you tell the difference between break and continue?"
      ],
      "metadata": {
        "id": "bHsAA6PmpbCt"
      }
    },
    {
      "cell_type": "markdown",
      "source": [
        "break:\n",
        "\n",
        "Purpose: The break statement is used to exit the current loop prematurely. When break is encountered within a loop, it immediately terminates the loop's execution and continues with the code after the loop."
      ],
      "metadata": {
        "id": "hNS0PIkHp_ed"
      }
    },
    {
      "cell_type": "code",
      "source": [
        "numbers = [1, 2, 3, 4, 5]\n",
        "for num in numbers:\n",
        "    if num == 3:\n",
        "        print(\"Found it!\")\n",
        "        break"
      ],
      "metadata": {
        "colab": {
          "base_uri": "https://localhost:8080/"
        },
        "id": "6eyLXqQAoryv",
        "outputId": "c1f1a072-b3cb-44f7-e039-0fee4c2087c3"
      },
      "execution_count": 54,
      "outputs": [
        {
          "output_type": "stream",
          "name": "stdout",
          "text": [
            "Found it!\n"
          ]
        }
      ]
    },
    {
      "cell_type": "markdown",
      "source": [
        "continue:\n",
        "\n",
        "Purpose: The continue statement is used to skip the current iteration of the loop and move on to the next iteration. When continue is encountered within a loop, it skips the remaining code in the current iteration and goes to the next iteration of the loop."
      ],
      "metadata": {
        "id": "WK6j9ug8qBP1"
      }
    },
    {
      "cell_type": "code",
      "source": [
        "numbers = [1, 2, 3, 4, 5]\n",
        "for num in numbers:\n",
        "    if num == 3:\n",
        "        continue  # Skip processing the number 3\n",
        "    print(num)"
      ],
      "metadata": {
        "colab": {
          "base_uri": "https://localhost:8080/"
        },
        "id": "tpgMgHF1pzIH",
        "outputId": "490c092b-2a6d-4a51-ccf3-70f6667867c2"
      },
      "execution_count": 55,
      "outputs": [
        {
          "output_type": "stream",
          "name": "stdout",
          "text": [
            "1\n",
            "2\n",
            "4\n",
            "5\n"
          ]
        }
      ]
    },
    {
      "cell_type": "markdown",
      "source": [
        "#11. In a for loop, what is the difference between range(10), range(0, 10), and range(0, 10, 1)?"
      ],
      "metadata": {
        "id": "spLLHIrDqIu4"
      }
    },
    {
      "cell_type": "markdown",
      "source": [
        "for all the three cases thr output will be same"
      ],
      "metadata": {
        "id": "uPXRAit_qYfT"
      }
    },
    {
      "cell_type": "code",
      "source": [
        "for i in range(10):\n",
        "    print(i)"
      ],
      "metadata": {
        "colab": {
          "base_uri": "https://localhost:8080/"
        },
        "id": "nKehVpQQp4_i",
        "outputId": "838663ac-0fce-48dd-bedc-4188a501657b"
      },
      "execution_count": 56,
      "outputs": [
        {
          "output_type": "stream",
          "name": "stdout",
          "text": [
            "0\n",
            "1\n",
            "2\n",
            "3\n",
            "4\n",
            "5\n",
            "6\n",
            "7\n",
            "8\n",
            "9\n"
          ]
        }
      ]
    },
    {
      "cell_type": "code",
      "source": [
        "for i in range(0, 10):\n",
        "    print(i)"
      ],
      "metadata": {
        "colab": {
          "base_uri": "https://localhost:8080/"
        },
        "id": "eOPNctH5qh9p",
        "outputId": "24171f2c-1274-4c01-8833-33843c2e371b"
      },
      "execution_count": 57,
      "outputs": [
        {
          "output_type": "stream",
          "name": "stdout",
          "text": [
            "0\n",
            "1\n",
            "2\n",
            "3\n",
            "4\n",
            "5\n",
            "6\n",
            "7\n",
            "8\n",
            "9\n"
          ]
        }
      ]
    },
    {
      "cell_type": "code",
      "source": [
        "\n",
        "\n",
        "for i in range(0, 10, 1):\n",
        "    print(i)"
      ],
      "metadata": {
        "colab": {
          "base_uri": "https://localhost:8080/"
        },
        "id": "-CypFD7cqk6H",
        "outputId": "aeb19b79-2478-42af-e924-f6e6c5d8994f"
      },
      "execution_count": 58,
      "outputs": [
        {
          "output_type": "stream",
          "name": "stdout",
          "text": [
            "0\n",
            "1\n",
            "2\n",
            "3\n",
            "4\n",
            "5\n",
            "6\n",
            "7\n",
            "8\n",
            "9\n"
          ]
        }
      ]
    },
    {
      "cell_type": "markdown",
      "source": [
        "#12. Write a short program that prints the numbers 1 to 10 using a for loop. Then write an equivalent program that prints the numbers 1 to 10 using a while loop."
      ],
      "metadata": {
        "id": "uErl923urMCg"
      }
    },
    {
      "cell_type": "code",
      "source": [
        "for i in range(1, 11):\n",
        "    print(i)\n"
      ],
      "metadata": {
        "colab": {
          "base_uri": "https://localhost:8080/"
        },
        "id": "9HsT-swOqssX",
        "outputId": "669e31a4-1675-4263-d4e8-5dac9978cfaf"
      },
      "execution_count": 59,
      "outputs": [
        {
          "output_type": "stream",
          "name": "stdout",
          "text": [
            "1\n",
            "2\n",
            "3\n",
            "4\n",
            "5\n",
            "6\n",
            "7\n",
            "8\n",
            "9\n",
            "10\n"
          ]
        }
      ]
    },
    {
      "cell_type": "code",
      "source": [
        "i = 1\n",
        "while i <= 10:\n",
        "    print(i)\n",
        "    i += 1\n"
      ],
      "metadata": {
        "colab": {
          "base_uri": "https://localhost:8080/"
        },
        "id": "4EOUJ181rICm",
        "outputId": "067b8dbe-a3d3-4fea-cb2a-fd141bfa5520"
      },
      "execution_count": 60,
      "outputs": [
        {
          "output_type": "stream",
          "name": "stdout",
          "text": [
            "1\n",
            "2\n",
            "3\n",
            "4\n",
            "5\n",
            "6\n",
            "7\n",
            "8\n",
            "9\n",
            "10\n"
          ]
        }
      ]
    },
    {
      "cell_type": "markdown",
      "source": [
        "#13. If you had a function named bacon() inside a module named spam, how would you call it after importing spam?"
      ],
      "metadata": {
        "id": "EC37YNhosrwl"
      }
    },
    {
      "cell_type": "code",
      "source": [
        "#spam.bacon()"
      ],
      "metadata": {
        "id": "aW2AmZagrfQt"
      },
      "execution_count": 61,
      "outputs": []
    }
  ]
}