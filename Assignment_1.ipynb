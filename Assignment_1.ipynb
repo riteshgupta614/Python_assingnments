{
  "nbformat": 4,
  "nbformat_minor": 0,
  "metadata": {
    "colab": {
      "provenance": []
    },
    "kernelspec": {
      "name": "python3",
      "display_name": "Python 3"
    },
    "language_info": {
      "name": "python"
    }
  },
  "cells": [
    {
      "cell_type": "markdown",
      "source": [
        "#1. In the elements which of them are values or an expression?eg:- values can be integer or string and expressions will be mathematical operators.\n",
        "\n"
      ],
      "metadata": {
        "id": "q9lYBbwCSlAU"
      }
    },
    {
      "cell_type": "code",
      "source": [
        "'''\n",
        "\n",
        "*\n",
        "'hello'\n",
        "-87.8\n",
        "-\n",
        "/\n",
        "6\n",
        "\n",
        "'''\n"
      ],
      "metadata": {
        "colab": {
          "base_uri": "https://localhost:8080/",
          "height": 36
        },
        "id": "YnSyhWVsSJQM",
        "outputId": "9fccfaea-ede5-4ad8-bd38-181de95cd26f"
      },
      "execution_count": 13,
      "outputs": [
        {
          "output_type": "execute_result",
          "data": {
            "text/plain": [
              "\"\\n\\n*\\t      \\n'hello'   \\n-87.8    \\n-       \\n/     \\n6    \\n      \\n\""
            ],
            "application/vnd.google.colaboratory.intrinsic+json": {
              "type": "string"
            }
          },
          "metadata": {},
          "execution_count": 13
        }
      ]
    },
    {
      "cell_type": "code",
      "source": [
        "'''\n",
        "SOLUTION\n",
        "*\t           = EXPRESSION\n",
        "'hello'      = \tVALUE\n",
        "-87.8        = \tVALUE\n",
        "-           = \tEXPRESSION\n",
        "/           = \tEXPRESSION\n",
        "6           = \tVALUE\n",
        "'''"
      ],
      "metadata": {
        "colab": {
          "base_uri": "https://localhost:8080/",
          "height": 54
        },
        "id": "2HjUyuuuQisr",
        "outputId": "a6cd67c7-f67c-49e9-879a-14f951db7870"
      },
      "execution_count": 9,
      "outputs": [
        {
          "output_type": "execute_result",
          "data": {
            "text/plain": [
              "\"\\n\\n*\\t           = EXPRESSION\\t\\n'hello'      = \\tVALUE\\t\\n-87.8        = \\tVALUE\\t\\n-           = \\tEXPRESSION\\t\\n/           = \\tEXPRESSION\\t\\n6           = \\tVALUE\\t\\n\""
            ],
            "application/vnd.google.colaboratory.intrinsic+json": {
              "type": "string"
            }
          },
          "metadata": {},
          "execution_count": 9
        }
      ]
    },
    {
      "cell_type": "markdown",
      "source": [
        "#2.What is the difference between string and variable?\n"
      ],
      "metadata": {
        "id": "DHEeCxThSjnU"
      }
    },
    {
      "cell_type": "code",
      "execution_count": 18,
      "metadata": {
        "id": "HY-BNUvhO0ez"
      },
      "outputs": [],
      "source": [
        "#STRING - String is a data type for representing text.\n",
        "\n",
        "#VARIABLE - Variable is a container that can hold various types of data, including strings, and allows you to work with and manipulate that data in your Python programs.\n"
      ]
    },
    {
      "cell_type": "markdown",
      "source": [
        "#3.Describe three different data types\n",
        "\n"
      ],
      "metadata": {
        "id": "1K_qiDF6TrZf"
      }
    },
    {
      "cell_type": "code",
      "source": [
        "#Integer (int):\tInteger data type represents whole numbers, both positive and negative, without any decimal point\n",
        "\n",
        "#Float (float):Float data type represents floating-point numbers, which include numbers with decimal points or in scientific notation.\n",
        "\n",
        "#String (str):\tString data type is used to represent text and is enclosed in single (' ') or double (\" \") quotes.\n"
      ],
      "metadata": {
        "id": "HoG2XVFLTySZ"
      },
      "execution_count": null,
      "outputs": []
    },
    {
      "cell_type": "markdown",
      "source": [
        "#4.What is an expression made up of? What do all expressions do?"
      ],
      "metadata": {
        "id": "swjLExUXUKPh"
      }
    },
    {
      "cell_type": "code",
      "source": [
        "'''In Python, an expression is made up of one or more values and operators that can be evaluated to produce a result.\n",
        " Expressions are the building blocks of Python code, and they are used to perform operations and calculations.'''"
      ],
      "metadata": {
        "id": "MNGU4xS-Tjrg"
      },
      "execution_count": 21,
      "outputs": []
    },
    {
      "cell_type": "markdown",
      "source": [
        "#5.What is the difference between an expression and a statement?"
      ],
      "metadata": {
        "id": "Q-KJFl4aUkA9"
      }
    },
    {
      "cell_type": "code",
      "source": [
        " '''Statements Do Something and are often composed of expressions (or other statements)'''"
      ],
      "metadata": {
        "colab": {
          "base_uri": "https://localhost:8080/",
          "height": 36
        },
        "id": "sHlDDF5lUPo5",
        "outputId": "74a63275-30f5-48a0-e289-8c1c5991e17b"
      },
      "execution_count": 22,
      "outputs": [
        {
          "output_type": "execute_result",
          "data": {
            "text/plain": [
              "'Statements Do Something and are often composed of expressions (or other statements)'"
            ],
            "application/vnd.google.colaboratory.intrinsic+json": {
              "type": "string"
            }
          },
          "metadata": {},
          "execution_count": 22
        }
      ]
    },
    {
      "cell_type": "markdown",
      "source": [
        "#6. After running the following code, what does the variable bacon contain?"
      ],
      "metadata": {
        "id": "jxGrxrESVRDZ"
      }
    },
    {
      "cell_type": "code",
      "source": [
        "\n",
        "Bacon = 22\n",
        "Bacon + 1\n"
      ],
      "metadata": {
        "colab": {
          "base_uri": "https://localhost:8080/"
        },
        "id": "IuZoQ4TrUqWE",
        "outputId": "58c96192-a3ba-4981-ea8c-1b6e79a7555f"
      },
      "execution_count": 24,
      "outputs": [
        {
          "output_type": "execute_result",
          "data": {
            "text/plain": [
              "23"
            ]
          },
          "metadata": {},
          "execution_count": 24
        }
      ]
    },
    {
      "cell_type": "markdown",
      "source": [
        "Bocan variable is added with 1 int value"
      ],
      "metadata": {
        "id": "l9FLxBmeVoiN"
      }
    },
    {
      "cell_type": "markdown",
      "source": [
        "#7. What should the values of the following two terms be?"
      ],
      "metadata": {
        "id": "YECAKENZVVex"
      }
    },
    {
      "cell_type": "code",
      "source": [
        "'Spam' + 'spamspam'"
      ],
      "metadata": {
        "colab": {
          "base_uri": "https://localhost:8080/",
          "height": 36
        },
        "id": "HIGkF72gVMX1",
        "outputId": "52d1cc27-d761-45ac-b392-2525012ee4c7"
      },
      "execution_count": 26,
      "outputs": [
        {
          "output_type": "execute_result",
          "data": {
            "text/plain": [
              "'Spamspamspam'"
            ],
            "application/vnd.google.colaboratory.intrinsic+json": {
              "type": "string"
            }
          },
          "metadata": {},
          "execution_count": 26
        }
      ]
    },
    {
      "cell_type": "code",
      "source": [
        "'Spam' * 3"
      ],
      "metadata": {
        "colab": {
          "base_uri": "https://localhost:8080/",
          "height": 36
        },
        "id": "II50is0wVX6H",
        "outputId": "a2c61127-33dd-4f83-f96d-480eff6d51e1"
      },
      "execution_count": 27,
      "outputs": [
        {
          "output_type": "execute_result",
          "data": {
            "text/plain": [
              "'SpamSpamSpam'"
            ],
            "application/vnd.google.colaboratory.intrinsic+json": {
              "type": "string"
            }
          },
          "metadata": {},
          "execution_count": 27
        }
      ]
    },
    {
      "cell_type": "markdown",
      "source": [
        "Both expressions evaluate to the string 'spamspamspam'"
      ],
      "metadata": {
        "id": "qXUt8gikVk6m"
      }
    },
    {
      "cell_type": "markdown",
      "source": [
        "#9. What three functions can be used to get the integer, floating-point number, or string version of a value?"
      ],
      "metadata": {
        "id": "-8FVftcRVux5"
      }
    },
    {
      "cell_type": "code",
      "source": [
        "'''\n",
        "The int(), float(), and str() functions will evaluate to the integer, floating-point number, and string versions of the value passed to them.\n",
        "'''"
      ],
      "metadata": {
        "colab": {
          "base_uri": "https://localhost:8080/",
          "height": 54
        },
        "id": "W6et5q7_Vau7",
        "outputId": "0b85607b-30b6-45a8-8ff1-ecf3f6393b6c"
      },
      "execution_count": 29,
      "outputs": [
        {
          "output_type": "execute_result",
          "data": {
            "text/plain": [
              "'\\nThe int(), float(), and str() functions will evaluate to the integer, floating-point number, and string versions of the value passed to them.\\n'"
            ],
            "application/vnd.google.colaboratory.intrinsic+json": {
              "type": "string"
            }
          },
          "metadata": {},
          "execution_count": 29
        }
      ]
    },
    {
      "cell_type": "markdown",
      "source": [
        "#10. Why does this expression cause an error? How can you fix it?'I have eaten ' + 99 + ' burritos.'\n"
      ],
      "metadata": {
        "id": "GufM9cbYWS3w"
      }
    },
    {
      "cell_type": "code",
      "source": [
        "'I have eaten ' + '99'+  ' burritos.'"
      ],
      "metadata": {
        "colab": {
          "base_uri": "https://localhost:8080/",
          "height": 36
        },
        "id": "hwsrdZAvWF6z",
        "outputId": "301c7870-489b-49c4-8153-682ca723f43d"
      },
      "execution_count": 33,
      "outputs": [
        {
          "output_type": "execute_result",
          "data": {
            "text/plain": [
              "'I have eaten 99 burritos.'"
            ],
            "application/vnd.google.colaboratory.intrinsic+json": {
              "type": "string"
            }
          },
          "metadata": {},
          "execution_count": 33
        }
      ]
    },
    {
      "cell_type": "code",
      "source": [],
      "metadata": {
        "id": "dwYwDeHFWZPl"
      },
      "execution_count": null,
      "outputs": []
    }
  ]
}