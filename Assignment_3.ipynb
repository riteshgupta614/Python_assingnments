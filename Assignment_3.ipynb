{
  "nbformat": 4,
  "nbformat_minor": 0,
  "metadata": {
    "colab": {
      "provenance": []
    },
    "kernelspec": {
      "name": "python3",
      "display_name": "Python 3"
    },
    "language_info": {
      "name": "python"
    }
  },
  "cells": [
    {
      "cell_type": "markdown",
      "source": [
        "#1. Why are functions advantageous to have in your programs?"
      ],
      "metadata": {
        "id": "m3TImBdEvHjW"
      }
    },
    {
      "cell_type": "markdown",
      "source": [
        "Functions are advantageous to have in your programs for several simple and important reasons in Python:\n",
        "\n",
        "\n",
        "Reusability: Functions allow you to write a block of code once and use it multiple times throughout your program. This avoids duplication of code and makes your program more efficient and easier to maintain.\n",
        "\n",
        "\n",
        "Modularity: Functions break down your program into smaller, manageable pieces. Each function can perform a specific task or solve a particular problem. This modular structure makes your code easier to understand and debug.\n",
        "\n",
        "\n",
        "Readability: By giving meaningful names to your functions, you make your code more readable and self-documenting. This helps both you and others understand the purpose of different parts of your program.\n",
        "\n",
        "\n",
        "Abstraction: Functions allow you to hide the implementation details and only expose the essential functionality. This abstraction simplifies the usage of complex operations, making your code more user-friendly.\n",
        "\n",
        "\n",
        "Testing and Debugging: Functions enable you to isolate specific pieces of code for testing and debugging. You can focus on fixing issues in one function without affecting the rest of your program.\n",
        "\n",
        "\n",
        "Collaboration: In larger projects, functions facilitate collaboration among team members. Different team members can work on different functions simultaneously, and when properly designed, these functions can be integrated into the main program seamlessly.\n",
        "\n",
        "\n",
        "Scalability: As your program grows, functions make it easier to add new features or modify existing ones without disrupting the entire codebase. You can extend your program by adding new functions as needed.\n",
        "\n",
        "\n",
        "Code Organization: Functions help you organize your code logically. You can group related tasks together in functions, making it clear which parts of your program handle specific responsibilities."
      ],
      "metadata": {
        "id": "2EBn-lldu1J2"
      }
    },
    {
      "cell_type": "code",
      "source": [],
      "metadata": {
        "id": "4cLl8gkCvJpD"
      },
      "execution_count": 26,
      "outputs": []
    },
    {
      "cell_type": "markdown",
      "source": [
        "#2. When does the code in a function run: when it&#39;s specified or when it&#39;s called?"
      ],
      "metadata": {
        "id": "kw02JNQZvTTj"
      }
    },
    {
      "cell_type": "markdown",
      "source": [
        "In Python, the code in a function runs when the function is called, not when it's specified or defined."
      ],
      "metadata": {
        "id": "tCqPACg8vtoM"
      }
    },
    {
      "cell_type": "code",
      "source": [
        "def greet():\n",
        "    print(\"Hello, world!\")\n",
        "\n",
        "greet()  # This is when the code in the 'greet' function is executed\n"
      ],
      "metadata": {
        "colab": {
          "base_uri": "https://localhost:8080/"
        },
        "id": "swCwdFBAvtZu",
        "outputId": "e9260a27-c667-4abb-beab-ca5b9ec1a102"
      },
      "execution_count": 27,
      "outputs": [
        {
          "output_type": "stream",
          "name": "stdout",
          "text": [
            "Hello, world!\n"
          ]
        }
      ]
    },
    {
      "cell_type": "markdown",
      "source": [
        "\n",
        "#3. What statement creates a function? in python"
      ],
      "metadata": {
        "id": "gm4NX9jswKxk"
      }
    },
    {
      "cell_type": "markdown",
      "source": [
        "In Python, the def statement is used to create (define) a function."
      ],
      "metadata": {
        "id": "wYyk-2dRwHzG"
      }
    },
    {
      "cell_type": "code",
      "source": [
        "def function_name(parameters):\n",
        "    '''#Function body: code to be executed\n",
        "    #...\n",
        "    #Optional: return statement to return a value'''"
      ],
      "metadata": {
        "id": "0qsFa6RmwPVG"
      },
      "execution_count": 28,
      "outputs": []
    },
    {
      "cell_type": "markdown",
      "source": [
        "#4. What is the difference between a function and a function call?"
      ],
      "metadata": {
        "id": "AQ4NTeEg25i5"
      }
    },
    {
      "cell_type": "markdown",
      "source": [
        "Function:\n",
        "\n",
        "A function is a block of reusable code that performs a specific task or set of tasks."
      ],
      "metadata": {
        "id": "MaJLRvKT3AV3"
      }
    },
    {
      "cell_type": "code",
      "source": [
        "def greet(name):\n",
        "    print(f\"Hello, {name}!\")\n"
      ],
      "metadata": {
        "id": "_W19997U247H"
      },
      "execution_count": 29,
      "outputs": []
    },
    {
      "cell_type": "markdown",
      "source": [
        "Function Call:\n",
        "\n",
        "A function call is the act of actually executing or invoking a function."
      ],
      "metadata": {
        "id": "VzWnVrO73FHH"
      }
    },
    {
      "cell_type": "code",
      "source": [
        "greet(\"Hello\")\n"
      ],
      "metadata": {
        "colab": {
          "base_uri": "https://localhost:8080/"
        },
        "id": "zxSTkTMt3Czw",
        "outputId": "e344930f-e313-454e-c853-525e583bd1be"
      },
      "execution_count": 30,
      "outputs": [
        {
          "output_type": "stream",
          "name": "stdout",
          "text": [
            "Hello, Hello!\n"
          ]
        }
      ]
    },
    {
      "cell_type": "markdown",
      "source": [
        "#5. How many global scopes are there in a Python program? How many local scopes?"
      ],
      "metadata": {
        "id": "S0xpkEhQ3RLu"
      }
    },
    {
      "cell_type": "markdown",
      "source": [
        "In a Python program, there is one global scope and multiple local scopes."
      ],
      "metadata": {
        "id": "3I_ahghF3f3k"
      }
    },
    {
      "cell_type": "code",
      "source": [
        "#global scope - There is only one global scope in a Python program.\n",
        "global_var = 10\n",
        "\n",
        "def my_function():\n",
        "    print(global_var)\n",
        "\n",
        "print(global_var)\n"
      ],
      "metadata": {
        "colab": {
          "base_uri": "https://localhost:8080/"
        },
        "id": "orKuODMr3Hfh",
        "outputId": "a4786a2b-7a6a-48c9-bb4d-cdbab93d399e"
      },
      "execution_count": 31,
      "outputs": [
        {
          "output_type": "stream",
          "name": "stdout",
          "text": [
            "10\n"
          ]
        }
      ]
    },
    {
      "cell_type": "code",
      "source": [
        "#local scope - it can contain multiple local scopes\n",
        "def my_function():\n",
        "    local_var = 20\n",
        "    print(local_var)\n",
        "\n",
        "my_function()\n",
        "\n"
      ],
      "metadata": {
        "colab": {
          "base_uri": "https://localhost:8080/"
        },
        "id": "bOmm_NhP3QM-",
        "outputId": "33dd4f7f-c9f5-42c5-8773-07e2c138e167"
      },
      "execution_count": 32,
      "outputs": [
        {
          "output_type": "stream",
          "name": "stdout",
          "text": [
            "20\n"
          ]
        }
      ]
    },
    {
      "cell_type": "markdown",
      "source": [
        "#6. What happens to variables in a local scope when the function call returns?"
      ],
      "metadata": {
        "id": "qO79befG4zDp"
      }
    },
    {
      "cell_type": "code",
      "source": [
        "def my_function():\n",
        "    local_var = 42\n",
        "    print(\"Inside the function:\", local_var)\n",
        "\n",
        "my_function()  # Call the function\n",
        "\n",
        "# Uncommenting the line below would result in a NameError\n",
        "# print(\"Outside the function:\", local_var)\n"
      ],
      "metadata": {
        "colab": {
          "base_uri": "https://localhost:8080/"
        },
        "id": "ercrGfwO4t2Z",
        "outputId": "472f68e2-76cd-4233-e61f-610c7178d1d3"
      },
      "execution_count": 33,
      "outputs": [
        {
          "output_type": "stream",
          "name": "stdout",
          "text": [
            "Inside the function: 42\n"
          ]
        }
      ]
    },
    {
      "cell_type": "code",
      "source": [],
      "metadata": {
        "id": "WWFl_PTl41yQ"
      },
      "execution_count": 33,
      "outputs": []
    },
    {
      "cell_type": "markdown",
      "source": [
        "\n",
        "#7. What is the concept of a return value? Is it possible to have a return value in an expression?"
      ],
      "metadata": {
        "id": "3Srqu64o5SGn"
      }
    },
    {
      "cell_type": "markdown",
      "source": [
        "When a function performs some operation and is designed to produce a result, it can use the return statement to send that result back to the caller."
      ],
      "metadata": {
        "id": "2zBRtvJ05RTP"
      }
    },
    {
      "cell_type": "markdown",
      "source": [
        "Yes, it is indeed possible to have a return value in an expression in Python."
      ],
      "metadata": {
        "id": "VieU8FWk5-__"
      }
    },
    {
      "cell_type": "markdown",
      "source": [
        "Here's an example"
      ],
      "metadata": {
        "id": "KMIMAOox6D8a"
      }
    },
    {
      "cell_type": "code",
      "source": [
        "def add(a, b):\n",
        "    return a + b\n",
        "\n",
        "result = add(3, 5) * 2  # Using the return value of 'add' in an expression\n",
        "print(\"The result is:\", result)\n"
      ],
      "metadata": {
        "colab": {
          "base_uri": "https://localhost:8080/"
        },
        "id": "tqJ6wLts5WkN",
        "outputId": "7b496737-31f8-41d6-a591-2ebd7473d430"
      },
      "execution_count": 34,
      "outputs": [
        {
          "output_type": "stream",
          "name": "stdout",
          "text": [
            "The result is: 16\n"
          ]
        }
      ]
    },
    {
      "cell_type": "markdown",
      "source": [
        "In this example, my_function does not contain a return statement that returns a specific value. When you call my_function(), it completes its execution, but because it doesn't explicitly return anything, the return value is None."
      ],
      "metadata": {
        "id": "xhbyw8yY6i63"
      }
    },
    {
      "cell_type": "markdown",
      "source": [
        "\n",
        "#8. If a function does not have a return statement, what is the return value of a call to that function?"
      ],
      "metadata": {
        "id": "70DnkY8S6tg5"
      }
    },
    {
      "cell_type": "code",
      "source": [
        "def my_function():\n",
        "    # This function does not have a 'return' statement\n",
        "    pass  # A pass statement is used to have an empty block\n",
        "\n",
        "result = my_function()\n",
        "print(result)  # Output will be 'None'\n"
      ],
      "metadata": {
        "colab": {
          "base_uri": "https://localhost:8080/"
        },
        "id": "nStxbJ9c6nNQ",
        "outputId": "de6a30bd-d978-4d1d-f2ed-d5ed237c94bd"
      },
      "execution_count": 35,
      "outputs": [
        {
          "output_type": "stream",
          "name": "stdout",
          "text": [
            "None\n"
          ]
        }
      ]
    },
    {
      "cell_type": "markdown",
      "source": [
        "#9. How do you make a function variable refer to the global variable?"
      ],
      "metadata": {
        "id": "cwvYfkB47Tde"
      }
    },
    {
      "cell_type": "markdown",
      "source": [
        "In Python, if you want to make a function variable refer to a global variable, you can use the global keyword within the function to declare that you intend to use a global variable rather than creating a new local variable with the same name."
      ],
      "metadata": {
        "id": "MPm4IB7v7MD-"
      }
    },
    {
      "cell_type": "code",
      "source": [
        "global_var = 42  # This is a global variable\n",
        "\n",
        "def modify_global():\n",
        "    global global_var  # Declare that we are using the global variable 'global_var'\n",
        "    global_var = 100\n",
        "\n",
        "modify_global()  # Call the function to modify the global variable\n",
        "print(global_var)  # Output will be '100' because the global variable was modified\n"
      ],
      "metadata": {
        "colab": {
          "base_uri": "https://localhost:8080/"
        },
        "id": "gD2AOaM_6nx_",
        "outputId": "f7434908-201a-4123-f913-dd6552af0ddf"
      },
      "execution_count": 36,
      "outputs": [
        {
          "output_type": "stream",
          "name": "stdout",
          "text": [
            "100\n"
          ]
        }
      ]
    },
    {
      "cell_type": "markdown",
      "source": [
        "#10. What is the data type of None?"
      ],
      "metadata": {
        "id": "_A_oMaKW7jVb"
      }
    },
    {
      "cell_type": "code",
      "source": [
        "x = None\n",
        "print(type(x))  # Output will be <class 'NoneType'>\n"
      ],
      "metadata": {
        "colab": {
          "base_uri": "https://localhost:8080/"
        },
        "id": "3tdiveG37ZEs",
        "outputId": "be71e37e-77d8-428b-a20c-1049f577506b"
      },
      "execution_count": 37,
      "outputs": [
        {
          "output_type": "stream",
          "name": "stdout",
          "text": [
            "<class 'NoneType'>\n"
          ]
        }
      ]
    },
    {
      "cell_type": "markdown",
      "source": [
        "#11. What does the sentence import areallyourpetsnamederic do?"
      ],
      "metadata": {
        "id": "rWpBiUrW72a6"
      }
    },
    {
      "cell_type": "markdown",
      "source": [
        "The sentence import areallyourpetsnamederic in Python attempts to import a module named \"areallyourpetsnamederic.\" If such a module exists in the Python environment, it will be imported, and its contents (variables, functions, classes, etc.) will become accessible in your Python script or program."
      ],
      "metadata": {
        "id": "JWTdrrWA7yz_"
      }
    },
    {
      "cell_type": "markdown",
      "source": [
        "#12. If you had a bacon() feature in a spam module, what would you call it after importing spam?'''\n"
      ],
      "metadata": {
        "id": "OFVjk58y8Fi5"
      }
    },
    {
      "cell_type": "code",
      "source": [
        "'''\n",
        "!pip install spam\n",
        "import spam\n",
        "\n",
        "spam.bacon()\n",
        "\n",
        "'''"
      ],
      "metadata": {
        "colab": {
          "base_uri": "https://localhost:8080/",
          "height": 36
        },
        "id": "pWYAh3Z47mC1",
        "outputId": "1302a6c2-c8ce-4043-d1a1-fa7f17d9433d"
      },
      "execution_count": 38,
      "outputs": [
        {
          "output_type": "execute_result",
          "data": {
            "text/plain": [
              "'\\n!pip install spam\\nimport spam\\n\\nspam.bacon()\\n\\n'"
            ],
            "application/vnd.google.colaboratory.intrinsic+json": {
              "type": "string"
            }
          },
          "metadata": {},
          "execution_count": 38
        }
      ]
    },
    {
      "cell_type": "markdown",
      "source": [
        "#13. What can you do to save a programme from crashing if it encounters an error?"
      ],
      "metadata": {
        "id": "rFOMq3Dz8iBi"
      }
    },
    {
      "cell_type": "code",
      "source": [
        "try:\n",
        "    # Code that might raise an exception\n",
        "    result = 10 / 0  # This will raise a ZeroDivisionError\n",
        "except ZeroDivisionError as e:\n",
        "    # Handle the exception\n",
        "    print(\"An error occurred:\", e)\n"
      ],
      "metadata": {
        "colab": {
          "base_uri": "https://localhost:8080/"
        },
        "id": "zrnVbuVJ8Prq",
        "outputId": "662aa397-caa9-44af-885f-82178aeb7f97"
      },
      "execution_count": 39,
      "outputs": [
        {
          "output_type": "stream",
          "name": "stdout",
          "text": [
            "An error occurred: division by zero\n"
          ]
        }
      ]
    },
    {
      "cell_type": "markdown",
      "source": [
        "#14. What is the purpose of the try clause? What is the purpose of the except clause?"
      ],
      "metadata": {
        "id": "g_T4Fuhk80V3"
      }
    },
    {
      "cell_type": "code",
      "source": [
        "try:\n",
        "    # Code that might raise an exception\n",
        "    result = 10 / 0  # This will raise a ZeroDivisionError\n",
        "except ZeroDivisionError as e:\n",
        "    # Handle the exception\n",
        "    print(\"An error occurred:\", e)"
      ],
      "metadata": {
        "colab": {
          "base_uri": "https://localhost:8080/"
        },
        "id": "Ea6n1ah_8uRI",
        "outputId": "c95cf1d9-ac4b-4de5-930a-5327a5eabdbb"
      },
      "execution_count": 40,
      "outputs": [
        {
          "output_type": "stream",
          "name": "stdout",
          "text": [
            "An error occurred: division by zero\n"
          ]
        }
      ]
    },
    {
      "cell_type": "markdown",
      "source": [
        "Purpose of the try Clause:\n",
        "\n",
        "The try clause is used to enclose a block of code that might raise an exception."
      ],
      "metadata": {
        "id": "z6qxm6O_9Hvf"
      }
    },
    {
      "cell_type": "markdown",
      "source": [
        "Purpose of the except Clause:\n",
        "\n",
        "The except clause is used to specify how to handle exceptions that occur within the associated try block."
      ],
      "metadata": {
        "id": "vwP3HlSF9QoA"
      }
    },
    {
      "cell_type": "code",
      "source": [],
      "metadata": {
        "id": "KDvmXXEP9JWx"
      },
      "execution_count": 40,
      "outputs": []
    }
  ]
}