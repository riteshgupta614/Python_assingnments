{
  "nbformat": 4,
  "nbformat_minor": 0,
  "metadata": {
    "colab": {
      "provenance": []
    },
    "kernelspec": {
      "name": "python3",
      "display_name": "Python 3"
    },
    "language_info": {
      "name": "python"
    }
  },
  "cells": [
    {
      "cell_type": "markdown",
      "source": [
        "#1. What exactly is [ ]?"
      ],
      "metadata": {
        "id": "orsWRS6C-HU4"
      }
    },
    {
      "cell_type": "markdown",
      "source": [
        "empty_list = [ ]\n",
        "\n",
        "\n",
        "In Python, [ ] represents an empty list."
      ],
      "metadata": {
        "id": "3Mk6Clmr-LHP"
      }
    },
    {
      "cell_type": "markdown",
      "source": [
        "#2. In a list of values stored in a variable called spam, how would you assign the value 'hello' as the third value? (Assume [2, 4, 6, 8, 10] are in spam.)"
      ],
      "metadata": {
        "id": "gbQ2l1C4-nBi"
      }
    },
    {
      "cell_type": "code",
      "source": [
        "spam = [2, 4, 6, 8, 10]\n",
        "\n",
        "# Assign 'hello' as the third value (index 2)\n",
        "spam[2] = 'hello'\n",
        "\n",
        "print(spam)\n"
      ],
      "metadata": {
        "colab": {
          "base_uri": "https://localhost:8080/"
        },
        "id": "cBV-qyaC-KOR",
        "outputId": "b483fd31-92a9-44d1-e242-8bcbef4a3225"
      },
      "execution_count": null,
      "outputs": [
        {
          "output_type": "stream",
          "name": "stdout",
          "text": [
            "[2, 4, 'hello', 8, 10]\n"
          ]
        }
      ]
    },
    {
      "cell_type": "markdown",
      "source": [
        "#3. What is the value of spam[int(int('3' * 2) / 11)]?\n",
        "\n"
      ],
      "metadata": {
        "id": "bXssAa0w-vw4"
      }
    },
    {
      "cell_type": "code",
      "source": [
        "spam[int(int('3' * 2) / 11)]"
      ],
      "metadata": {
        "colab": {
          "base_uri": "https://localhost:8080/"
        },
        "id": "wvJfpyAy-pRn",
        "outputId": "4bf33fa8-6d3c-472c-d430-18c12eec4280"
      },
      "execution_count": null,
      "outputs": [
        {
          "output_type": "execute_result",
          "data": {
            "text/plain": [
              "8"
            ]
          },
          "metadata": {},
          "execution_count": 26
        }
      ]
    },
    {
      "cell_type": "markdown",
      "source": [
        "#4. What is the value of spam[-1]?"
      ],
      "metadata": {
        "id": "Sy4y9ISyDFii"
      }
    },
    {
      "cell_type": "markdown",
      "source": [
        "spam[-1] refers to the last element of the list spam. So, it retrieves the value of the last element in the list."
      ],
      "metadata": {
        "id": "4zOqPKW-EDkv"
      }
    },
    {
      "cell_type": "code",
      "source": [
        "spam[-1]\n"
      ],
      "metadata": {
        "colab": {
          "base_uri": "https://localhost:8080/"
        },
        "id": "vctIJacLDNBI",
        "outputId": "17e5b502-9ddd-4a8b-d8fa-d71ef313c090"
      },
      "execution_count": null,
      "outputs": [
        {
          "output_type": "execute_result",
          "data": {
            "text/plain": [
              "10"
            ]
          },
          "metadata": {},
          "execution_count": 27
        }
      ]
    },
    {
      "cell_type": "markdown",
      "source": [
        "#5. What is the value of spam[:2]?"
      ],
      "metadata": {
        "id": "dLWbehWYEGlu"
      }
    },
    {
      "cell_type": "markdown",
      "source": [
        "spam[:2] is a slice of the list spam that includes elements from the beginning up to, but not including, the element at index 2. In other words, it retrieves the first two elements of the list."
      ],
      "metadata": {
        "id": "ME9UmHMhELOn"
      }
    },
    {
      "cell_type": "markdown",
      "source": [],
      "metadata": {
        "id": "_K95u8CEEPFV"
      }
    },
    {
      "cell_type": "code",
      "source": [
        "spam[:2]"
      ],
      "metadata": {
        "colab": {
          "base_uri": "https://localhost:8080/"
        },
        "id": "lohtYe-PDRnQ",
        "outputId": "fa65ca2a-7c34-478b-c595-444da20cfd62"
      },
      "execution_count": null,
      "outputs": [
        {
          "output_type": "execute_result",
          "data": {
            "text/plain": [
              "[2, 4]"
            ]
          },
          "metadata": {},
          "execution_count": 28
        }
      ]
    },
    {
      "cell_type": "code",
      "source": [
        "bacon = [3.14, 'cat', 11, 'cat', True]"
      ],
      "metadata": {
        "id": "PJak_us1E7iy"
      },
      "execution_count": null,
      "outputs": []
    },
    {
      "cell_type": "markdown",
      "source": [
        "#6. What is the value of bacon.index('cat')?"
      ],
      "metadata": {
        "id": "HLyTIDv1FlSU"
      }
    },
    {
      "cell_type": "code",
      "source": [
        "bacon.index('cat')"
      ],
      "metadata": {
        "colab": {
          "base_uri": "https://localhost:8080/"
        },
        "id": "fzohsYe2FRc_",
        "outputId": "a76b3a1e-7a64-44d5-bb2d-dff503102a92"
      },
      "execution_count": null,
      "outputs": [
        {
          "output_type": "execute_result",
          "data": {
            "text/plain": [
              "1"
            ]
          },
          "metadata": {},
          "execution_count": 30
        }
      ]
    },
    {
      "cell_type": "markdown",
      "source": [
        "#7. How does bacon.append(99) change the look of the list value in bacon?"
      ],
      "metadata": {
        "id": "TyfWnoNcFzfX"
      }
    },
    {
      "cell_type": "code",
      "source": [
        "bacon.append(99)\n",
        "bacon"
      ],
      "metadata": {
        "id": "z00GPv7SFiN4"
      },
      "execution_count": null,
      "outputs": []
    },
    {
      "cell_type": "markdown",
      "source": [
        "#8. How does bacon.remove('cat') change the look of the list in bacon?"
      ],
      "metadata": {
        "id": "KJTKu2X8F9wF"
      }
    },
    {
      "cell_type": "code",
      "source": [
        "bacon.remove('cat')\n",
        "bacon"
      ],
      "metadata": {
        "colab": {
          "base_uri": "https://localhost:8080/"
        },
        "id": "bcPzmv2-FwOB",
        "outputId": "396d39d3-8beb-4f9e-94b9-c3d340e724ee"
      },
      "execution_count": null,
      "outputs": [
        {
          "output_type": "execute_result",
          "data": {
            "text/plain": [
              "[3.14, 11, 'cat', True, 99]"
            ]
          },
          "metadata": {},
          "execution_count": 33
        }
      ]
    },
    {
      "cell_type": "markdown",
      "source": [
        "#9. What are the list concatenation and list replication operators?\n"
      ],
      "metadata": {
        "id": "2-hBwV4MG58t"
      }
    },
    {
      "cell_type": "markdown",
      "source": [
        "List Concatenation (+) Operator:\n",
        "\n",
        "The + operator is used to combine two or more lists into a single list."
      ],
      "metadata": {
        "id": "wft-t5hYHHxm"
      }
    },
    {
      "cell_type": "code",
      "source": [
        "list1 = [1, 2, 3]\n",
        "list2 = [4, 5, 6]\n",
        "concatenated_list = list1 + list2  # Combines list1 and list2\n",
        "print(concatenated_list)  # Output: [1, 2, 3, 4, 5, 6]\n"
      ],
      "metadata": {
        "colab": {
          "base_uri": "https://localhost:8080/"
        },
        "id": "efL398YGHKZV",
        "outputId": "91185aad-256c-419c-e2ce-a29487edaa0b"
      },
      "execution_count": null,
      "outputs": [
        {
          "output_type": "stream",
          "name": "stdout",
          "text": [
            "[1, 2, 3, 4, 5, 6]\n"
          ]
        }
      ]
    },
    {
      "cell_type": "markdown",
      "source": [
        "List Replication (*) Operator:\n",
        "\n",
        "The * operator is used to create a new list by replicating an existing list multiple times."
      ],
      "metadata": {
        "id": "gMN9Q3BMHSI3"
      }
    },
    {
      "cell_type": "code",
      "source": [
        "original_list = [1, 2, 3]\n",
        "replicated_list = original_list * 3  # Replicates original_list 3 times\n",
        "print(replicated_list)  # Output: [1, 2, 3, 1, 2, 3, 1, 2, 3]\n"
      ],
      "metadata": {
        "colab": {
          "base_uri": "https://localhost:8080/"
        },
        "id": "AdEi193jHdlV",
        "outputId": "98c5b974-aee5-405a-fbbe-23af04b7c2f8"
      },
      "execution_count": null,
      "outputs": [
        {
          "output_type": "stream",
          "name": "stdout",
          "text": [
            "[1, 2, 3, 1, 2, 3, 1, 2, 3]\n"
          ]
        }
      ]
    },
    {
      "cell_type": "markdown",
      "source": [
        "#10. What is difference between the list methods append() and insert()?"
      ],
      "metadata": {
        "id": "ayuT9xUWHkcF"
      }
    },
    {
      "cell_type": "markdown",
      "source": [
        "append() Method:\n",
        "\n",
        "The append() method is used to add an element to the end of a list."
      ],
      "metadata": {
        "id": "95dGhI-tIXwF"
      }
    },
    {
      "cell_type": "code",
      "source": [
        "my_list = [1, 2, 3]\n",
        "my_list.append(4)  # Adds 4 to the end of the list\n",
        "print(my_list)  # Output: [1, 2, 3, 4]\n"
      ],
      "metadata": {
        "colab": {
          "base_uri": "https://localhost:8080/"
        },
        "id": "cfSXU0v8HsF-",
        "outputId": "9c9d7d21-989e-46b2-fc88-3806d56fda8c"
      },
      "execution_count": null,
      "outputs": [
        {
          "output_type": "stream",
          "name": "stdout",
          "text": [
            "[1, 2, 3, 4]\n"
          ]
        }
      ]
    },
    {
      "cell_type": "markdown",
      "source": [
        "insert() Method:\n",
        "\n",
        "The insert() method is used to add an element at a specific position within the list."
      ],
      "metadata": {
        "id": "afQmobuoIgud"
      }
    },
    {
      "cell_type": "code",
      "source": [
        "my_list = [1, 2, 3]\n",
        "my_list.insert(1, 4)  # Inserts 4 at index 1 (before the current element at index 1)\n",
        "print(my_list)  # Output: [1, 4, 2, 3]\n",
        "\n"
      ],
      "metadata": {
        "colab": {
          "base_uri": "https://localhost:8080/"
        },
        "id": "7LDU6rHDHu9v",
        "outputId": "17ff40b5-ee69-4c56-cf66-e7dec8690be6"
      },
      "execution_count": null,
      "outputs": [
        {
          "output_type": "stream",
          "name": "stdout",
          "text": [
            "[1, 4, 2, 3]\n"
          ]
        }
      ]
    },
    {
      "cell_type": "markdown",
      "source": [
        "#11. What are the two methods for removing items from a list?"
      ],
      "metadata": {
        "id": "B2ezOdtlr_DL"
      }
    },
    {
      "cell_type": "markdown",
      "source": [
        "The remove() method is used to remove the first occurrence of a specified value from the list."
      ],
      "metadata": {
        "id": "jv2pdhJXsFia"
      }
    },
    {
      "cell_type": "markdown",
      "source": [
        "The pop() method is used to remove an item at a specified index from the list and return its value."
      ],
      "metadata": {
        "id": "G9p1B6BFsJOb"
      }
    },
    {
      "cell_type": "markdown",
      "source": [
        "#12. Describe how list values and string values are identical."
      ],
      "metadata": {
        "id": "QB5OBhhdsptB"
      }
    },
    {
      "cell_type": "markdown",
      "source": [
        "Both lists and strings are considered sequential data types, which means they represent ordered collections of elements. Lists are collections of various data types (e.g., numbers, strings, other lists), while strings are collections of characters."
      ],
      "metadata": {
        "id": "CsFhm-RXsm26"
      }
    },
    {
      "cell_type": "markdown",
      "source": [
        "#13. What's the difference between tuples and lists?"
      ],
      "metadata": {
        "id": "gwp6NFGxtBnw"
      }
    },
    {
      "cell_type": "markdown",
      "source": [
        "In Python, both list values and string values are ordered collections of elements, with each element accessible by an index, and they can be iterated over using loops or comprehensions."
      ],
      "metadata": {
        "id": "8Lv5lCSus-ng"
      }
    },
    {
      "cell_type": "markdown",
      "source": [
        "#14. How do you type a tuple value that only contains the integer 42?"
      ],
      "metadata": {
        "id": "zLAxsDQ_tY_5"
      }
    },
    {
      "cell_type": "markdown",
      "source": [
        "The comma , after 42 is important. It distinguishes a tuple containing a single element from an expression enclosed in parentheses. Without the comma, Python would interpret the parentheses as a grouping operator, and you would not have a tuple"
      ],
      "metadata": {
        "id": "q4u13eHhtWUo"
      }
    },
    {
      "cell_type": "markdown",
      "source": [],
      "metadata": {
        "id": "fsmiWh8c038f"
      }
    },
    {
      "cell_type": "markdown",
      "source": [
        "#15. How do you get a list value's tuple form? How do you get a tuple value's list form?"
      ],
      "metadata": {
        "id": "YhqDONpk0xbY"
      }
    },
    {
      "cell_type": "code",
      "source": [
        "my_list = [1, 2, 3, 4]\n",
        "my_tuple = tuple(my_list)"
      ],
      "metadata": {
        "id": "KBXLMWW3t_9y"
      },
      "execution_count": 12,
      "outputs": []
    },
    {
      "cell_type": "code",
      "source": [
        "my_tuple = (1, 2, 3, 4)\n",
        "my_list = list(my_tuple)\n"
      ],
      "metadata": {
        "id": "AJ5BN3UVzr-u"
      },
      "execution_count": 13,
      "outputs": []
    },
    {
      "cell_type": "markdown",
      "source": [
        "#16. Variables that \"contain\" list values are not necessarily lists themselves. Instead, what do they contain?"
      ],
      "metadata": {
        "id": "bQ424eX105Xv"
      }
    },
    {
      "cell_type": "markdown",
      "source": [
        "\n",
        "In Python, variables that \"contain\" list values don't actually contain the entire list themselves. Instead, they contain references or pointers to the list object in memory."
      ],
      "metadata": {
        "id": "RkFSNR7E1E6u"
      }
    },
    {
      "cell_type": "code",
      "source": [
        "# Creating a list and assigning it to two variables\n",
        "my_list = [1, 2, 3]\n",
        "another_list = my_list\n",
        "\n",
        "# Modifying the list through one variable\n",
        "my_list.append(4)\n",
        "\n",
        "# Both variables reflect the change, as they reference the same list object\n",
        "print(my_list)       # Output: [1, 2, 3, 4]\n",
        "print(another_list)  # Output: [1, 2, 3, 4]\n"
      ],
      "metadata": {
        "colab": {
          "base_uri": "https://localhost:8080/"
        },
        "id": "FEpa5G7E1HbS",
        "outputId": "967bf548-aff8-4579-9192-c43f743029ae"
      },
      "execution_count": 14,
      "outputs": [
        {
          "output_type": "stream",
          "name": "stdout",
          "text": [
            "[1, 2, 3, 4]\n",
            "[1, 2, 3, 4]\n"
          ]
        }
      ]
    },
    {
      "cell_type": "markdown",
      "source": [
        "#17. How do you distinguish between copy.copy() and copy.deepcopy()?"
      ],
      "metadata": {
        "id": "38meGPHS1p5N"
      }
    },
    {
      "cell_type": "markdown",
      "source": [
        "copy.copy() creates a shallow copy of an object.\n",
        "In a shallow copy, a new object is created, but it only references the top-level elements of the original object."
      ],
      "metadata": {
        "id": "FelCznam1vp9"
      }
    },
    {
      "cell_type": "code",
      "source": [
        "import copy\n",
        "\n",
        "original_list = [1, [2, 3]]\n",
        "copied_list = copy.copy(original_list)\n",
        "\n",
        "original_list[1].append(4)  # Modifying the nested list\n",
        "print(original_list)  # Output: [1, [2, 3, 4]]\n",
        "print(copied_list)    # Output: [1, [2, 3, 4]] (both lists are affected)\n"
      ],
      "metadata": {
        "colab": {
          "base_uri": "https://localhost:8080/"
        },
        "id": "NXCkg_DN1JWy",
        "outputId": "0f62b980-38c5-4133-cbd6-653a62d862be"
      },
      "execution_count": 15,
      "outputs": [
        {
          "output_type": "stream",
          "name": "stdout",
          "text": [
            "[1, [2, 3, 4]]\n",
            "[1, [2, 3, 4]]\n"
          ]
        }
      ]
    },
    {
      "cell_type": "markdown",
      "source": [
        "copy.deepcopy() creates a deep copy of an object.\n",
        "In a deep copy, a new object is created, and it recursively duplicates all elements within the original object, including nested objects."
      ],
      "metadata": {
        "id": "URErKGui12As"
      }
    },
    {
      "cell_type": "code",
      "source": [
        "import copy\n",
        "\n",
        "original_list = [1, [2, 3]]\n",
        "deep_copied_list = copy.deepcopy(original_list)\n",
        "\n",
        "original_list[1].append(4)  # Modifying the nested list in the original\n",
        "print(original_list)      # Output: [1, [2, 3, 4]]\n",
        "print(deep_copied_list)  # Output: [1, [2, 3]] (only the original list is affected)\n"
      ],
      "metadata": {
        "colab": {
          "base_uri": "https://localhost:8080/"
        },
        "id": "tBGewLaX1xwa",
        "outputId": "020168ea-2b20-4fcc-9cf5-b69db42bc752"
      },
      "execution_count": 16,
      "outputs": [
        {
          "output_type": "stream",
          "name": "stdout",
          "text": [
            "[1, [2, 3, 4]]\n",
            "[1, [2, 3]]\n"
          ]
        }
      ]
    },
    {
      "cell_type": "code",
      "source": [],
      "metadata": {
        "id": "pZuiPw8O14Eo"
      },
      "execution_count": null,
      "outputs": []
    }
  ]
}