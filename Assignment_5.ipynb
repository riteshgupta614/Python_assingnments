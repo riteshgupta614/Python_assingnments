{
  "nbformat": 4,
  "nbformat_minor": 0,
  "metadata": {
    "colab": {
      "provenance": []
    },
    "kernelspec": {
      "name": "python3",
      "display_name": "Python 3"
    },
    "language_info": {
      "name": "python"
    }
  },
  "cells": [
    {
      "cell_type": "markdown",
      "source": [
        "#1. What does an empty dictionary's code look like?"
      ],
      "metadata": {
        "id": "Hpppd_rT2zzb"
      }
    },
    {
      "cell_type": "code",
      "source": [
        "empty_dict = {}\n"
      ],
      "metadata": {
        "id": "NaF_hJ9l3a25"
      },
      "execution_count": 1,
      "outputs": []
    },
    {
      "cell_type": "code",
      "source": [
        "empty_dict = dict()\n"
      ],
      "metadata": {
        "id": "fh0CHWol3dDR"
      },
      "execution_count": 2,
      "outputs": []
    },
    {
      "cell_type": "markdown",
      "source": [
        "#2. What is the value of a dictionary value with the key 'foo' and the value 42?\n",
        "\n",
        "\n",
        "\n",
        "\n",
        "\n",
        "\n"
      ],
      "metadata": {
        "id": "WXSzO4gP29ED"
      }
    },
    {
      "cell_type": "code",
      "source": [
        "my_dict = {'foo': 42}"
      ],
      "metadata": {
        "id": "jCXFDmqv3y-A"
      },
      "execution_count": 3,
      "outputs": []
    },
    {
      "cell_type": "code",
      "source": [
        "value = my_dict['foo']\n",
        "print(value)  # Output: 42"
      ],
      "metadata": {
        "colab": {
          "base_uri": "https://localhost:8080/"
        },
        "id": "kv49qNsN34Ch",
        "outputId": "3b581a06-7b5c-42e3-a332-f0d203fa8572"
      },
      "execution_count": 4,
      "outputs": [
        {
          "output_type": "stream",
          "name": "stdout",
          "text": [
            "42\n"
          ]
        }
      ]
    },
    {
      "cell_type": "markdown",
      "source": [
        "#3. What is the most significant distinction between a dictionary and a list?"
      ],
      "metadata": {
        "id": "zq1gX2Du3ERh"
      }
    },
    {
      "cell_type": "markdown",
      "source": [
        "Data Structure:\n",
        "\n",
        "List: A list is an ordered collection of elements. It stores its elements in a sequential manner, and each element has an index starting from 0.\n",
        "Dictionary: A dictionary is an unordered collection of key-value pairs. It associates keys with values, allowing you to look up values by their associated keys."
      ],
      "metadata": {
        "id": "f5gYCQmf4Sep"
      }
    },
    {
      "cell_type": "markdown",
      "source": [
        "#4. What happens if you try to access spam['foo'] if spam is {'bar': 100}?"
      ],
      "metadata": {
        "id": "rdA3Wq-x3HaD"
      }
    },
    {
      "cell_type": "code",
      "source": [
        "'''\n",
        "spam = {'bar': 100}\n",
        "\n",
        "# Attempt to access a non-existent key 'foo'\n",
        "value = spam['foo']  # This will raise a KeyError\n",
        "'''"
      ],
      "metadata": {
        "colab": {
          "base_uri": "https://localhost:8080/",
          "height": 35
        },
        "id": "Slf5FWL445UG",
        "outputId": "afb34631-a054-4bad-d03d-3d525e3a6a00"
      },
      "execution_count": 5,
      "outputs": [
        {
          "output_type": "execute_result",
          "data": {
            "text/plain": [
              "\"\\nspam = {'bar': 100}\\n\\n# Attempt to access a non-existent key 'foo'\\nvalue = spam['foo']  # This will raise a KeyError\\n\""
            ],
            "application/vnd.google.colaboratory.intrinsic+json": {
              "type": "string"
            }
          },
          "metadata": {},
          "execution_count": 5
        }
      ]
    },
    {
      "cell_type": "markdown",
      "source": [
        "#5. If a dictionary is stored in spam, what is the difference between the expressions 'cat' in spam and 'cat' in spam.keys()?"
      ],
      "metadata": {
        "id": "mv2ksT6G3JqT"
      }
    },
    {
      "cell_type": "code",
      "source": [
        "\n",
        "spam ={'cat':100}\n",
        "'cat' in spam"
      ],
      "metadata": {
        "colab": {
          "base_uri": "https://localhost:8080/"
        },
        "id": "GHAwMHB36bwl",
        "outputId": "89023676-90ad-4d03-9f80-8e1337a12cf0"
      },
      "execution_count": 6,
      "outputs": [
        {
          "output_type": "execute_result",
          "data": {
            "text/plain": [
              "True"
            ]
          },
          "metadata": {},
          "execution_count": 6
        }
      ]
    },
    {
      "cell_type": "code",
      "source": [
        "'cat' in spam.keys()\n",
        "#There is no differnce, both check if 'cat' is key of the dictionary and if its a key, returns True.\n"
      ],
      "metadata": {
        "colab": {
          "base_uri": "https://localhost:8080/"
        },
        "id": "1YJw1L_M6e3i",
        "outputId": "6367dff8-b087-40e3-f641-65e0d584f71b"
      },
      "execution_count": 7,
      "outputs": [
        {
          "output_type": "execute_result",
          "data": {
            "text/plain": [
              "True"
            ]
          },
          "metadata": {},
          "execution_count": 7
        }
      ]
    },
    {
      "cell_type": "markdown",
      "source": [
        "#6. If a dictionary is stored in spam, what is the difference between the expressions 'cat' in spam and 'cat' in spam.values()?"
      ],
      "metadata": {
        "id": "OKewDLbb3Lyh"
      }
    },
    {
      "cell_type": "code",
      "source": [
        "spam ={'cat':100}\n",
        "'cat' in spam\n"
      ],
      "metadata": {
        "colab": {
          "base_uri": "https://localhost:8080/"
        },
        "id": "o1RuuFNa6hza",
        "outputId": "5b9ee22a-fa03-4992-92f9-0b6b5fc87038"
      },
      "execution_count": 8,
      "outputs": [
        {
          "output_type": "execute_result",
          "data": {
            "text/plain": [
              "True"
            ]
          },
          "metadata": {},
          "execution_count": 8
        }
      ]
    },
    {
      "cell_type": "code",
      "source": [
        "spam ={'cat':100}\n",
        "'cat' in spam.values()\n",
        "\n",
        "#'cat' in spam checks whether there is a 'cat' key in the dictionary\n",
        "#'cat' in spam.values() checks whether there is a value 'cat' for one of the keys in spam."
      ],
      "metadata": {
        "colab": {
          "base_uri": "https://localhost:8080/"
        },
        "id": "9pzeAlzx6kT0",
        "outputId": "6e8cf044-70b2-427a-ae45-4afa264802f2"
      },
      "execution_count": 9,
      "outputs": [
        {
          "output_type": "execute_result",
          "data": {
            "text/plain": [
              "False"
            ]
          },
          "metadata": {},
          "execution_count": 9
        }
      ]
    },
    {
      "cell_type": "markdown",
      "source": [
        "#7. What is a shortcut for the following code?if 'color' not in spam:spam['color'] = 'black'"
      ],
      "metadata": {
        "id": "YhpQJizC3ONx"
      }
    },
    {
      "cell_type": "code",
      "source": [
        "spam.setdefault('color', 'black')\n"
      ],
      "metadata": {
        "colab": {
          "base_uri": "https://localhost:8080/",
          "height": 35
        },
        "id": "mUSNb3sB7np5",
        "outputId": "be0a48a7-948a-4968-8b78-7cd426a1463f"
      },
      "execution_count": 10,
      "outputs": [
        {
          "output_type": "execute_result",
          "data": {
            "text/plain": [
              "'black'"
            ],
            "application/vnd.google.colaboratory.intrinsic+json": {
              "type": "string"
            }
          },
          "metadata": {},
          "execution_count": 10
        }
      ]
    },
    {
      "cell_type": "markdown",
      "source": [
        "#8. How do you \"pretty print\" dictionary values using which module and function?\n"
      ],
      "metadata": {
        "id": "aPYavHGq3Sgx"
      }
    },
    {
      "cell_type": "code",
      "execution_count": 11,
      "metadata": {
        "colab": {
          "base_uri": "https://localhost:8080/"
        },
        "id": "IclVDnkZ2vtY",
        "outputId": "62eb679a-4b7b-4b1e-a55b-e049186c3dfc"
      },
      "outputs": [
        {
          "output_type": "stream",
          "name": "stdout",
          "text": [
            "{\n",
            "    \"name\": \"John\",\n",
            "    \"age\": 30,\n",
            "    \"city\": \"New York\"\n",
            "}\n"
          ]
        }
      ],
      "source": [
        "import json\n",
        "\n",
        "# Your dictionary\n",
        "my_dict = {\n",
        "    'name': 'John',\n",
        "    'age': 30,\n",
        "    'city': 'New York'\n",
        "}\n",
        "\n",
        "# Pretty print the dictionary\n",
        "pretty_dict = json.dumps(my_dict, indent=4)\n",
        "\n",
        "print(pretty_dict)"
      ]
    },
    {
      "cell_type": "code",
      "source": [],
      "metadata": {
        "id": "DWm3C8ho8k66"
      },
      "execution_count": 11,
      "outputs": []
    }
  ]
}